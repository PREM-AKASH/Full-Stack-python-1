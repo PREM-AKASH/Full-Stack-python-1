{
 "cells": [
  {
   "cell_type": "code",
   "execution_count": 1,
   "id": "c7ed0857-c396-453d-9c02-47c3546cd257",
   "metadata": {},
   "outputs": [],
   "source": [
    "def singleint(n):\n",
    "    while n >= 10:\n",
    "        n = sum(int(digit) for digit in str(n))\n",
    "    return n\n",
    "\n",
    "num = int(input(\"Enter a number: \"))\n",
    "print(\"Output: \",singleint(num))"
   ]
  },
  {
   "cell_type": "code",
   "execution_count": null,
   "id": "d4b074cc-e0ca-47d5-9c1b-bcf6a490a50b",
   "metadata": {},
   "outputs": [],
   "source": []
  },
  {
   "cell_type": "code",
   "execution_count": null,
   "id": "05523f71-0648-49fa-b2ba-75e282b6eadd",
   "metadata": {},
   "outputs": [],
   "source": []
  }
 ],
 "metadata": {
  "kernelspec": {
   "display_name": "Python 3 (ipykernel)",
   "language": "python",
   "name": "python3"
  },
  "language_info": {
   "codemirror_mode": {
    "name": "ipython",
    "version": 3
   },
   "file_extension": ".py",
   "mimetype": "text/x-python",
   "name": "python",
   "nbconvert_exporter": "python",
   "pygments_lexer": "ipython3",
   "version": "3.13.5"
  }
 },
 "nbformat": 4,
 "nbformat_minor": 5
}
